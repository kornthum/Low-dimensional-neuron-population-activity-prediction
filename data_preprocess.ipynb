{
  "nbformat": 4,
  "nbformat_minor": 0,
  "metadata": {
    "colab": {
      "name": "data_preprocess",
      "provenance": [],
      "collapsed_sections": [
        "IluZER06jMSP"
      ]
    },
    "kernelspec": {
      "name": "python3",
      "display_name": "Python 3"
    },
    "language_info": {
      "name": "python"
    }
  },
  "cells": [
    {
      "cell_type": "markdown",
      "metadata": {
        "id": "IluZER06jMSP"
      },
      "source": [
        "# **Downloading**"
      ]
    },
    {
      "cell_type": "code",
      "metadata": {
        "id": "1BFtWJEsiNH_"
      },
      "source": [
        "%%capture\n",
        "!pip install nwbwidgets\n",
        "!pip install dandi\n",
        "!pip install -U pynwb\n",
        "!dandi download https://gui.dandiarchive.org/#/dandiset/000010/"
      ],
      "execution_count": null,
      "outputs": []
    },
    {
      "cell_type": "markdown",
      "metadata": {
        "id": "mQePnu5hjPmn"
      },
      "source": [
        "# **Function**"
      ]
    },
    {
      "cell_type": "code",
      "metadata": {
        "id": "CGbyjmm0jRIJ"
      },
      "source": [
        "import matplotlib.pyplot as plt\n",
        "import pandas as pd\n",
        "from PIL import Image\n",
        "import numpy as np\n",
        "import math as math\n",
        "import os\n",
        "import shutil\n",
        "import torch\n",
        "\n",
        "from pynwb import NWBHDF5IO\n",
        "from nwbwidgets import nwb2widget\n",
        "\n",
        "%matplotlib inline "
      ],
      "execution_count": null,
      "outputs": []
    },
    {
      "cell_type": "code",
      "metadata": {
        "id": "FN9b7bXd2zX0"
      },
      "source": [
        "def data_binning(path, bin=100):\n",
        "  \"\"\"\n",
        "  \n",
        "  \"\"\"\n",
        "  io = NWBHDF5IO(path, 'r')\n",
        "  nwbfile = io.read()\n",
        "  rate = nwbfile.units.sampling_rate[0]\n",
        "  number_of_neuron = len(nwbfile.units.spike_times_index[:])\n",
        "  number_of_trial = len(nwbfile.units.obs_intervals_index[0]) #All neuron has the same number of trials\n",
        "  number_of_x = rate*5.5\n",
        "  data = torch.zeros(math.ceil(number_of_x), number_of_neuron, number_of_trial)\n",
        "\n",
        "  smin = 0\n",
        "  smax = 5.5\n",
        "  for trials in range(data.shape[2]):\n",
        "    t_norm = nwbfile.units.obs_intervals[trials] \n",
        "    for nueron in range(data.shape[1]):\n",
        "      n_norm = nwbfile.units.spike_times_index[nueron][:]\n",
        "      x_norm = ( n_norm - t_norm[0] ) * (smax - smin) / ( t_norm[1] - t_norm[0]) + smin #normalize\n",
        "      x_norm = x_norm[x_norm > 0]\n",
        "      x_norm = x_norm[x_norm < 5.5]\n",
        "      x_norm = x_norm*rate\n",
        "      x_norm = [math.ceil(i) for i in x_norm]\n",
        "      for x in x_norm:\n",
        "        data[x, nueron, trials] = 1\n",
        "\n",
        "  time_point = 20 * bin\n",
        "  time_after_bin = math.ceil( data.shape[0] / time_point)\n",
        "  data_new = torch.zeros(time_after_bin, number_of_neuron, number_of_trial)\n",
        "\n",
        "  for trials in range(data.shape[2]):\n",
        "    for nueron in range(data.shape[1]):\n",
        "      for x in range(time_after_bin):\n",
        "        log_data = data[time_point*x:time_point*(x+1),nueron,trials]\n",
        "        data_new[x, nueron,trials] = torch.sum(log_data)\n",
        "  return data_new, data.shape[1]\n",
        "\n",
        "def export_data(sub=None, test=True, bin=100):\n",
        "  \"\"\"\n",
        "\n",
        "  \"\"\"\n",
        "  if test:\n",
        "    col_content = '/content/'\n",
        "    main = os.path.join(col_content, sub)\n",
        "    path, dirs, files = next(os.walk(main))\n",
        "    for f in files:\n",
        "      text = f.split('_')\n",
        "      text = text[1]\n",
        "      dir = os.path.join(main, text)\n",
        "      if not os.path.exists(dir):\n",
        "        os.makedirs(dir)\n",
        "      ses = os.path.join(main, f)\n",
        "      data, n = data_binning(ses, bin=bin)\n",
        "      for num in range(n):\n",
        "        data_save = data.permute(2,1,0);\n",
        "        name = str(num + 1) + '.csv'\n",
        "        np.savetxt(os.path.join(dir, name), data_save[:,num,:], delimiter=',')\n",
        "  else:\n",
        "    col_content = '/content/000010/'\n",
        "    path, dirs_2, sub = next(os.walk(col_content))\n",
        "    for s in dirs_2:\n",
        "      main = os.path.join(col_content, s)\n",
        "      path, dirs, files = next(os.walk(main))\n",
        "      for f in files:\n",
        "        text = f.split('_')\n",
        "        text = text[1]\n",
        "        dir = os.path.join(main, text)\n",
        "        if not os.path.exists(dir):\n",
        "          os.makedirs(dir)\n",
        "        ses = os.path.join(main, f)\n",
        "        data, n = data_binning(ses, bin=bin)\n",
        "        for num in range(n):\n",
        "          data_save = data.permute(2,1,0);\n",
        "          name = str(num + 1) + '.csv'\n",
        "          np.savetxt(os.path.join(dir, name), data_save[:,num,:], delimiter=',')"
      ],
      "execution_count": null,
      "outputs": []
    },
    {
      "cell_type": "markdown",
      "metadata": {
        "id": "5DNzZ-khjSJ_"
      },
      "source": [
        "# **Data Exploring**"
      ]
    },
    {
      "cell_type": "code",
      "metadata": {
        "id": "_S6o82_P3VWj"
      },
      "source": [
        "data = data_binning('/content/000010/sub-217951/sub-217951_ses-20131010_obj-1wjcj56_behavior+ophys.nwb', bin=100)"
      ],
      "execution_count": null,
      "outputs": []
    },
    {
      "cell_type": "code",
      "metadata": {
        "id": "C24iDMbTdQ2B"
      },
      "source": [
        "export_data(test=False, bin =100)"
      ],
      "execution_count": null,
      "outputs": []
    },
    {
      "cell_type": "code",
      "metadata": {
        "colab": {
          "base_uri": "https://localhost:8080/",
          "height": 282
        },
        "id": "03c3Uhad38bS",
        "outputId": "6c6c0f3d-f863-4e31-ce59-758dcd927bb3"
      },
      "source": [
        "plt.plot(data[:,10,40])"
      ],
      "execution_count": null,
      "outputs": [
        {
          "output_type": "execute_result",
          "data": {
            "text/plain": [
              "[<matplotlib.lines.Line2D at 0x7f83a30d5f90>]"
            ]
          },
          "metadata": {
            "tags": []
          },
          "execution_count": 32
        },
        {
          "output_type": "display_data",
          "data": {
            "image/png": "[encoded data removed]",
            "text/plain": [
              "<Figure size 432x288 with 1 Axes>"
            ]
          },
          "metadata": {
            "tags": [],
            "needs_background": "light"
          }
        }
      ]
    }
  ]
}